{
 "cells": [
  {
   "cell_type": "code",
   "execution_count": 1,
   "metadata": {},
   "outputs": [
    {
     "name": "stderr",
     "output_type": "stream",
     "text": [
      "2024-09-29 23:03:07.353600: I tensorflow/tsl/cuda/cudart_stub.cc:28] Could not find cuda drivers on your machine, GPU will not be used.\n",
      "2024-09-29 23:03:07.679093: E tensorflow/compiler/xla/stream_executor/cuda/cuda_dnn.cc:9342] Unable to register cuDNN factory: Attempting to register factory for plugin cuDNN when one has already been registered\n",
      "2024-09-29 23:03:07.679128: E tensorflow/compiler/xla/stream_executor/cuda/cuda_fft.cc:609] Unable to register cuFFT factory: Attempting to register factory for plugin cuFFT when one has already been registered\n",
      "2024-09-29 23:03:07.680801: E tensorflow/compiler/xla/stream_executor/cuda/cuda_blas.cc:1518] Unable to register cuBLAS factory: Attempting to register factory for plugin cuBLAS when one has already been registered\n",
      "2024-09-29 23:03:07.869184: I tensorflow/tsl/cuda/cudart_stub.cc:28] Could not find cuda drivers on your machine, GPU will not be used.\n",
      "2024-09-29 23:03:07.871381: I tensorflow/core/platform/cpu_feature_guard.cc:182] This TensorFlow binary is optimized to use available CPU instructions in performance-critical operations.\n",
      "To enable the following instructions: AVX2 FMA, in other operations, rebuild TensorFlow with the appropriate compiler flags.\n",
      "2024-09-29 23:03:09.300942: W tensorflow/compiler/tf2tensorrt/utils/py_utils.cc:38] TF-TRT Warning: Could not find TensorRT\n"
     ]
    },
    {
     "name": "stdout",
     "output_type": "stream",
     "text": [
      "-------------------------\n"
     ]
    }
   ],
   "source": [
    "import numpy as np\n",
    "import pandas as pd\n",
    "import matplotlib.pyplot as plt\n",
    "import seaborn as sns\n",
    "import os\n",
    "\n",
    "from sklearn.model_selection import train_test_split\n",
    "from sklearn.ensemble import RandomForestClassifier\n",
    "from sklearn.preprocessing import OneHotEncoder, StandardScaler, OrdinalEncoder\n",
    "\n",
    "from scipy.stats import chi2_contingency\n",
    "\n",
    "import tensorflow as tf\n",
    "from tensorflow import keras\n",
    "\n",
    "from keras.models import Sequential\n",
    "from keras.layers import Dense\n",
    "from keras.initializers import GlorotUniform\n",
    "from keras.initializers import HeUniform\n",
    "from keras.layers import Dense, Dropout, BatchNormalization\n",
    "from keras.callbacks import EarlyStopping\n",
    "from keras.optimizers import SGD, Adam, RMSprop, Adagrad, Adamax, Nadam, Ftrl\n",
    "from keras.metrics import Precision, Recall\n",
    "from tensorflow.keras.utils import to_categorical\n",
    "\n",
    "import hyperopt\n",
    "from hyperopt import hp, fmin, tpe, Trials, space_eval, STATUS_OK\n",
    "\n",
    "#ignore warnings\n",
    "import warnings\n",
    "warnings.filterwarnings('ignore')\n",
    "print('-'*25)\n",
    "\n",
    "TEST_SIZE = 0.2"
   ]
  },
  {
   "cell_type": "code",
   "execution_count": 2,
   "metadata": {},
   "outputs": [],
   "source": [
    "# Import del dataset e divisione in train e test\n",
    "train_df = pd.read_csv('datasets/InternetAddiction.csv')\n",
    "train_df.rename(columns={'sii':'label'}, inplace=True)\n",
    "train_df = train_df.dropna(subset=['label'])\n",
    "\n",
    "# Viene diviso il train set in train e validation set\n",
    "train, test_df = train_test_split(train_df, test_size = TEST_SIZE, random_state = 42)\n",
    "train_df, val_df = train_test_split(train, test_size = TEST_SIZE, random_state = 42)\n",
    "\n",
    "train_x = train_df.drop(columns=['label'])\n",
    "train_y = train_df['label'].astype(int)\n",
    "\n",
    "val_x = val_df.drop(columns=['label'])\n",
    "val_y = val_df['label'].astype(int)\n",
    "\n",
    "test_x = test_df.drop(columns=['label'])\n",
    "test_y = test_df['label'].astype(int)"
   ]
  },
  {
   "cell_type": "code",
   "execution_count": 4,
   "metadata": {},
   "outputs": [],
   "source": [
    "def nan_values(dataset):\n",
    "    dataset = dataset.drop(columns=['id'])\n",
    "    for col in dataset.columns:\n",
    "        if dataset[col].isnull().sum() > 0:\n",
    "            if (dataset[col].dtype == 'object') | (dataset[col].dtype == 'bool'):\n",
    "                dataset[col].fillna(dataset[col].mode()[0], inplace=True)\n",
    "            else:\n",
    "                dataset[col].fillna(dataset[col].mean(), inplace=True)\n",
    "    return dataset\n",
    "\n",
    "def fs(dataset, dataset_y):\n",
    "    str_path = 'objects/features_internet.npy'\n",
    "\n",
    "    if not os.path.exists(str_path):\n",
    "        dataset['label'] = dataset_y\n",
    "        correlation_matrix=dataset.corr()\n",
    "        features = correlation_matrix['label'][(correlation_matrix['label']>=0.1) | (correlation_matrix['label']<=-0.1)].index\n",
    "        features = features.drop('label')\n",
    "        print(correlation_matrix['label'].sort_values(ascending=False))\n",
    "        print(len(features))\n",
    "        np.save(str_path, features)\n",
    "    features = np.load(str_path, allow_pickle=True)\n",
    "    return dataset[features]\n",
    "\n",
    "def encode(dataset, dataset_y):\n",
    "    dataset = nan_values(dataset)\n",
    "    fill_dict = {col: dataset[col].mean() if dataset[col].dtype != 'object' else dataset[col].mode()[0] for col in dataset.columns}\n",
    "    cat_cols = dataset.select_dtypes(include='object').columns\n",
    "    num_cols = dataset.select_dtypes(exclude='object').columns\n",
    "    print(dataset.dtypes)\n",
    "    scaler = StandardScaler()\n",
    "    dataset[num_cols] = scaler.fit_transform(dataset[num_cols])\n",
    "\n",
    "    encoder = OrdinalEncoder()\n",
    "    dataset[cat_cols] = encoder.fit_transform(dataset[cat_cols])\n",
    "\n",
    "    dataset = fs(dataset, dataset_y)\n",
    "\n",
    "    return dataset.astype(float), scaler, encoder, fill_dict\n",
    "\n",
    "\n"
   ]
  },
  {
   "cell_type": "code",
   "execution_count": 5,
   "metadata": {},
   "outputs": [],
   "source": [
    "def preproc_test_val(dataset, scaler, encoder, mean):\n",
    "    dataset = dataset.drop(columns=['id'])\n",
    "    for key in mean.keys():\n",
    "        dataset[key].fillna(mean[key], inplace=True)\n",
    "\n",
    "    cat_cols = dataset.select_dtypes(include='object').columns\n",
    "    num_cols = dataset.select_dtypes(exclude='object').columns\n",
    "    dataset[num_cols] = scaler.transform(dataset[num_cols])\n",
    "    dataset[cat_cols] = encoder.transform(dataset[cat_cols])\n",
    "\n",
    "    features = np.load('objects/features_internet.npy', allow_pickle=True)\n",
    "    dataset = dataset[features]\n",
    "    dataset = dataset.astype(float)\n",
    "    return dataset"
   ]
  },
  {
   "cell_type": "code",
   "execution_count": 6,
   "metadata": {},
   "outputs": [
    {
     "name": "stdout",
     "output_type": "stream",
     "text": [
      "Basic_Demos-Enroll_Season                  object\n",
      "Basic_Demos-Age                             int64\n",
      "Basic_Demos-Sex                             int64\n",
      "CGAS-Season                                object\n",
      "CGAS-CGAS_Score                           float64\n",
      "                                           ...   \n",
      "SDS-Season                                 object\n",
      "SDS-SDS_Total_Raw                         float64\n",
      "SDS-SDS_Total_T                           float64\n",
      "PreInt_EduHx-Season                        object\n",
      "PreInt_EduHx-computerinternet_hoursday    float64\n",
      "Length: 80, dtype: object\n"
     ]
    }
   ],
   "source": [
    "train_x, scaler, encoder, mean = encode(train_x, train_y)\n",
    "val_x = preproc_test_val(val_x, scaler, encoder, mean)\n",
    "test_x = preproc_test_val(test_x, scaler, encoder, mean)"
   ]
  },
  {
   "cell_type": "code",
   "execution_count": 7,
   "metadata": {},
   "outputs": [
    {
     "name": "stdout",
     "output_type": "stream",
     "text": [
      "Model: \"sequential\"\n",
      "_________________________________________________________________\n",
      " Layer (type)                Output Shape              Param #   \n",
      "=================================================================\n",
      " dense (Dense)               (None, 112)               5040      \n",
      "                                                                 \n",
      " dropout (Dropout)           (None, 112)               0         \n",
      "                                                                 \n",
      " dense_1 (Dense)             (None, 272)               30736     \n",
      "                                                                 \n",
      " dropout_1 (Dropout)         (None, 272)               0         \n",
      "                                                                 \n",
      " dense_2 (Dense)             (None, 4)                 1092      \n",
      "                                                                 \n",
      "=================================================================\n",
      "Total params: 36868 (144.02 KB)\n",
      "Trainable params: 36868 (144.02 KB)\n",
      "Non-trainable params: 0 (0.00 Byte)\n",
      "_________________________________________________________________\n"
     ]
    },
    {
     "name": "stderr",
     "output_type": "stream",
     "text": [
      "2024-09-29 23:04:12.515184: I tensorflow/compiler/xla/stream_executor/cuda/cuda_gpu_executor.cc:894] successful NUMA node read from SysFS had negative value (-1), but there must be at least one NUMA node, so returning NUMA node zero. See more at https://github.com/torvalds/linux/blob/v6.0/Documentation/ABI/testing/sysfs-bus-pci#L344-L355\n",
      "2024-09-29 23:04:12.516010: W tensorflow/core/common_runtime/gpu/gpu_device.cc:2211] Cannot dlopen some GPU libraries. Please make sure the missing libraries mentioned above are installed properly if you would like to use GPU. Follow the guide at https://www.tensorflow.org/install/gpu for how to download and setup the required libraries for your platform.\n",
      "Skipping registering GPU devices...\n"
     ]
    },
    {
     "name": "stdout",
     "output_type": "stream",
     "text": [
      "Epoch 1/1000\n",
      "4/4 [==============================] - 1s 93ms/step - loss: 1.2512 - accuracy: 0.4509 - val_loss: 0.9437 - val_accuracy: 0.5799\n",
      "Epoch 2/1000\n",
      "4/4 [==============================] - 0s 13ms/step - loss: 0.8762 - accuracy: 0.5754 - val_loss: 0.6854 - val_accuracy: 0.6324\n",
      "Epoch 3/1000\n",
      "4/4 [==============================] - 0s 12ms/step - loss: 0.5994 - accuracy: 0.7269 - val_loss: 0.5002 - val_accuracy: 0.8630\n",
      "Epoch 4/1000\n",
      "4/4 [==============================] - 0s 37ms/step - loss: 0.4314 - accuracy: 0.8600 - val_loss: 0.4022 - val_accuracy: 0.8721\n",
      "Epoch 5/1000\n",
      "4/4 [==============================] - 0s 39ms/step - loss: 0.3352 - accuracy: 0.8817 - val_loss: 0.3238 - val_accuracy: 0.9087\n",
      "Epoch 6/1000\n",
      "4/4 [==============================] - 0s 21ms/step - loss: 0.2703 - accuracy: 0.9040 - val_loss: 0.2488 - val_accuracy: 0.9201\n",
      "Epoch 7/1000\n",
      "4/4 [==============================] - 0s 21ms/step - loss: 0.2250 - accuracy: 0.9171 - val_loss: 0.2015 - val_accuracy: 0.9384\n",
      "Epoch 8/1000\n",
      "4/4 [==============================] - 0s 26ms/step - loss: 0.2070 - accuracy: 0.9229 - val_loss: 0.1738 - val_accuracy: 0.9452\n",
      "Epoch 9/1000\n",
      "4/4 [==============================] - 0s 22ms/step - loss: 0.1810 - accuracy: 0.9326 - val_loss: 0.1633 - val_accuracy: 0.9475\n",
      "Epoch 10/1000\n",
      "4/4 [==============================] - 0s 14ms/step - loss: 0.1707 - accuracy: 0.9406 - val_loss: 0.1584 - val_accuracy: 0.9543\n",
      "Epoch 11/1000\n",
      "4/4 [==============================] - 0s 19ms/step - loss: 0.1475 - accuracy: 0.9440 - val_loss: 0.1547 - val_accuracy: 0.9498\n",
      "Epoch 12/1000\n",
      "4/4 [==============================] - 0s 12ms/step - loss: 0.1332 - accuracy: 0.9560 - val_loss: 0.1532 - val_accuracy: 0.9452\n",
      "Epoch 13/1000\n",
      "4/4 [==============================] - 0s 11ms/step - loss: 0.1270 - accuracy: 0.9554 - val_loss: 0.1513 - val_accuracy: 0.9429\n",
      "Epoch 14/1000\n",
      "4/4 [==============================] - 0s 36ms/step - loss: 0.1148 - accuracy: 0.9623 - val_loss: 0.1456 - val_accuracy: 0.9429\n",
      "Epoch 15/1000\n",
      "4/4 [==============================] - 0s 28ms/step - loss: 0.1094 - accuracy: 0.9589 - val_loss: 0.1391 - val_accuracy: 0.9475\n",
      "Epoch 16/1000\n",
      "4/4 [==============================] - 0s 30ms/step - loss: 0.1066 - accuracy: 0.9623 - val_loss: 0.1350 - val_accuracy: 0.9498\n",
      "Epoch 17/1000\n",
      "4/4 [==============================] - 0s 30ms/step - loss: 0.0953 - accuracy: 0.9709 - val_loss: 0.1335 - val_accuracy: 0.9452\n",
      "Epoch 18/1000\n",
      "4/4 [==============================] - 0s 27ms/step - loss: 0.0936 - accuracy: 0.9651 - val_loss: 0.1347 - val_accuracy: 0.9475\n",
      "Epoch 19/1000\n",
      "4/4 [==============================] - 0s 15ms/step - loss: 0.0846 - accuracy: 0.9691 - val_loss: 0.1334 - val_accuracy: 0.9498\n",
      "Epoch 20/1000\n",
      "4/4 [==============================] - 0s 14ms/step - loss: 0.0880 - accuracy: 0.9680 - val_loss: 0.1327 - val_accuracy: 0.9452\n",
      "Epoch 21/1000\n",
      "4/4 [==============================] - 0s 15ms/step - loss: 0.0897 - accuracy: 0.9709 - val_loss: 0.1318 - val_accuracy: 0.9475\n",
      "Epoch 22/1000\n",
      "4/4 [==============================] - 0s 14ms/step - loss: 0.0916 - accuracy: 0.9680 - val_loss: 0.1311 - val_accuracy: 0.9475\n",
      "Epoch 23/1000\n",
      "4/4 [==============================] - 0s 12ms/step - loss: 0.0683 - accuracy: 0.9783 - val_loss: 0.1323 - val_accuracy: 0.9498\n",
      "Epoch 24/1000\n",
      "4/4 [==============================] - 0s 12ms/step - loss: 0.0834 - accuracy: 0.9703 - val_loss: 0.1358 - val_accuracy: 0.9521\n",
      "Epoch 25/1000\n",
      "4/4 [==============================] - 0s 20ms/step - loss: 0.0749 - accuracy: 0.9720 - val_loss: 0.1375 - val_accuracy: 0.9475\n",
      "Epoch 26/1000\n",
      "4/4 [==============================] - 0s 11ms/step - loss: 0.0750 - accuracy: 0.9754 - val_loss: 0.1386 - val_accuracy: 0.9452\n",
      "Epoch 27/1000\n",
      "4/4 [==============================] - 0s 11ms/step - loss: 0.0739 - accuracy: 0.9749 - val_loss: 0.1357 - val_accuracy: 0.9475\n",
      "Epoch 28/1000\n",
      "4/4 [==============================] - 0s 32ms/step - loss: 0.0695 - accuracy: 0.9766 - val_loss: 0.1323 - val_accuracy: 0.9475\n",
      "Epoch 29/1000\n",
      "4/4 [==============================] - 0s 11ms/step - loss: 0.0714 - accuracy: 0.9697 - val_loss: 0.1326 - val_accuracy: 0.9475\n",
      "Epoch 30/1000\n",
      "4/4 [==============================] - 0s 11ms/step - loss: 0.0693 - accuracy: 0.9754 - val_loss: 0.1344 - val_accuracy: 0.9429\n",
      "Epoch 31/1000\n",
      "4/4 [==============================] - 0s 11ms/step - loss: 0.0651 - accuracy: 0.9794 - val_loss: 0.1338 - val_accuracy: 0.9498\n",
      "Epoch 32/1000\n",
      "4/4 [==============================] - 0s 11ms/step - loss: 0.0656 - accuracy: 0.9749 - val_loss: 0.1328 - val_accuracy: 0.9498\n",
      "Epoch 33/1000\n",
      "4/4 [==============================] - 0s 11ms/step - loss: 0.0697 - accuracy: 0.9783 - val_loss: 0.1325 - val_accuracy: 0.9521\n",
      "Epoch 34/1000\n",
      "4/4 [==============================] - 0s 11ms/step - loss: 0.0666 - accuracy: 0.9760 - val_loss: 0.1312 - val_accuracy: 0.9498\n",
      "Epoch 35/1000\n",
      "4/4 [==============================] - 0s 10ms/step - loss: 0.0611 - accuracy: 0.9766 - val_loss: 0.1313 - val_accuracy: 0.9475\n",
      "Epoch 36/1000\n",
      "4/4 [==============================] - 0s 12ms/step - loss: 0.0594 - accuracy: 0.9771 - val_loss: 0.1313 - val_accuracy: 0.9475\n",
      "Epoch 37/1000\n",
      "4/4 [==============================] - 0s 11ms/step - loss: 0.0591 - accuracy: 0.9800 - val_loss: 0.1314 - val_accuracy: 0.9475\n",
      "Epoch 38/1000\n",
      "4/4 [==============================] - 0s 32ms/step - loss: 0.0645 - accuracy: 0.9794 - val_loss: 0.1333 - val_accuracy: 0.9498\n",
      "Epoch 39/1000\n",
      "4/4 [==============================] - 0s 11ms/step - loss: 0.0598 - accuracy: 0.9800 - val_loss: 0.1346 - val_accuracy: 0.9475\n",
      "Epoch 40/1000\n",
      "4/4 [==============================] - 0s 30ms/step - loss: 0.0634 - accuracy: 0.9806 - val_loss: 0.1350 - val_accuracy: 0.9475\n",
      "Epoch 41/1000\n",
      "4/4 [==============================] - 0s 11ms/step - loss: 0.0597 - accuracy: 0.9817 - val_loss: 0.1350 - val_accuracy: 0.9475\n",
      "Epoch 42/1000\n",
      "4/4 [==============================] - 0s 12ms/step - loss: 0.0578 - accuracy: 0.9823 - val_loss: 0.1357 - val_accuracy: 0.9452\n"
     ]
    }
   ],
   "source": [
    "EPOCHS = 1000\n",
    "BATCH_SIZE = 512\n",
    "DROPOUT = 0.2\n",
    "classes = 4\n",
    "\n",
    "train_y = to_categorical(train_y)\n",
    "val_y = to_categorical(val_y)\n",
    "test_y = to_categorical(test_y)\n",
    "\n",
    "np.random.seed(42)\n",
    "tf.random.set_seed(42)\n",
    "def model_fn():\n",
    "    # Initialising the NN\n",
    "    model = Sequential()\n",
    "\n",
    "    # layers\n",
    "    model.add(Dense(112, activation='softmax', input_dim=train_x.shape[-1]))\n",
    "    model.add(Dropout(DROPOUT))\n",
    "    model.add(Dense(272, activation='tanh'))\n",
    "    model.add(Dropout(DROPOUT))\n",
    "    model.add(Dense(classes,  kernel_initializer='normal', activation='softmax'))   \n",
    "\n",
    "    # summary\n",
    "    model.summary()\n",
    "    return model\n",
    "\n",
    "model = model_fn()\n",
    "# Compiling the NN\n",
    "initial_learning_rate = 0.01\n",
    "final_learning_rate = 0.0001\n",
    "learning_rate_decay_factor = (final_learning_rate / initial_learning_rate)**(1/100)\n",
    "steps_per_epoch = int(train_x.shape[0]/BATCH_SIZE)\n",
    "\n",
    "lr_schedule = keras.optimizers.schedules.ExponentialDecay(\n",
    "    initial_learning_rate,\n",
    "    decay_steps=steps_per_epoch,\n",
    "    decay_rate=learning_rate_decay_factor,\n",
    "    staircase=True)\n",
    "model.compile(optimizer = keras.optimizers.Adam(learning_rate=lr_schedule), loss = 'categorical_crossentropy', metrics = ['accuracy'])\n",
    "\n",
    "# Train the NN\n",
    "early_stopping_cb = keras.callbacks.EarlyStopping(patience=20, min_delta=0.0001, restore_best_weights=True)\n",
    "\n",
    "history = model.fit(train_x, train_y,\n",
    "                    epochs=EPOCHS,\n",
    "                    batch_size=BATCH_SIZE,\n",
    "                    callbacks=[early_stopping_cb],\n",
    "                    validation_data=(val_x, val_y))\n",
    "\n",
    "EPOCHS = len(history.history['loss'])"
   ]
  },
  {
   "cell_type": "code",
   "execution_count": 11,
   "metadata": {},
   "outputs": [
    {
     "name": "stdout",
     "output_type": "stream",
     "text": [
      "dict_keys(['loss', 'accuracy', 'val_loss', 'val_accuracy'])\n"
     ]
    },
    {
     "data": {
      "text/plain": [
       "<matplotlib.legend.Legend at 0x714d5d721bd0>"
      ]
     },
     "execution_count": 11,
     "metadata": {},
     "output_type": "execute_result"
    },
    {
     "data": {
      "image/png": "[encoded data removed]",
      "text/plain": [
       "<Figure size 1000x500 with 2 Axes>"
      ]
     },
     "metadata": {},
     "output_type": "display_data"
    }
   ],
   "source": [
    "print(history.history.keys())\n",
    "fig, axs = plt.subplots(1, 2, figsize=(10, 5))\n",
    "axs[0].plot(history.history['val_accuracy'])\n",
    "axs[0].plot(history.history['accuracy'])\n",
    "axs[0].legend(['val_accuracy', 'accuracy'])\n",
    "\n",
    "axs[1].plot(history.history['val_loss'])\n",
    "axs[1].plot(history.history['loss'])\n",
    "axs[1].legend(['val_loss', 'loss'])"
   ]
  },
  {
   "cell_type": "code",
   "execution_count": 8,
   "metadata": {},
   "outputs": [
    {
     "name": "stdout",
     "output_type": "stream",
     "text": [
      "18/18 [==============================] - 0s 3ms/step - loss: 0.0805 - accuracy: 0.9635\n"
     ]
    }
   ],
   "source": [
    "score = model.evaluate(test_x, test_y)"
   ]
  },
  {
   "cell_type": "code",
   "execution_count": 9,
   "metadata": {},
   "outputs": [
    {
     "name": "stdout",
     "output_type": "stream",
     "text": [
      "Basic_Demos-Enroll_Season                  object\n",
      "Basic_Demos-Age                             int64\n",
      "Basic_Demos-Sex                             int64\n",
      "CGAS-Season                                object\n",
      "CGAS-CGAS_Score                           float64\n",
      "                                           ...   \n",
      "SDS-Season                                 object\n",
      "SDS-SDS_Total_Raw                         float64\n",
      "SDS-SDS_Total_T                           float64\n",
      "PreInt_EduHx-Season                        object\n",
      "PreInt_EduHx-computerinternet_hoursday    float64\n",
      "Length: 80, dtype: object\n"
     ]
    }
   ],
   "source": [
    "train_x = train.drop(columns=['label'])\n",
    "train_y = train['label']\n",
    "\n",
    "test_x = test_df.drop(columns=['label'])\n",
    "test_y = test_df['label']\n",
    "\n",
    "train_y = to_categorical(train_y)\n",
    "test_y = to_categorical(test_y)\n",
    "\n",
    "train_x, scaler, encoder, mean = encode(train_x, train_y)\n",
    "test_x = preproc_test_val(test_x, scaler, encoder, mean)"
   ]
  },
  {
   "cell_type": "code",
   "execution_count": 10,
   "metadata": {},
   "outputs": [
    {
     "name": "stdout",
     "output_type": "stream",
     "text": [
      "Model: \"sequential_1\"\n",
      "_________________________________________________________________\n",
      " Layer (type)                Output Shape              Param #   \n",
      "=================================================================\n",
      " dense_3 (Dense)             (None, 112)               5040      \n",
      "                                                                 \n",
      " dropout_2 (Dropout)         (None, 112)               0         \n",
      "                                                                 \n",
      " dense_4 (Dense)             (None, 272)               30736     \n",
      "                                                                 \n",
      " dropout_3 (Dropout)         (None, 272)               0         \n",
      "                                                                 \n",
      " dense_5 (Dense)             (None, 4)                 1092      \n",
      "                                                                 \n",
      "=================================================================\n",
      "Total params: 36868 (144.02 KB)\n",
      "Trainable params: 36868 (144.02 KB)\n",
      "Non-trainable params: 0 (0.00 Byte)\n",
      "_________________________________________________________________\n",
      "Epoch 1/42\n",
      "5/5 [==============================] - 1s 7ms/step - loss: 1.1920 - accuracy: 0.5210 - precision: 0.7992 - recall: 0.0910    \n",
      "Epoch 2/42\n",
      "5/5 [==============================] - 0s 6ms/step - loss: 0.7778 - accuracy: 0.6179 - precision: 0.7080 - recall: 0.5896\n",
      "Epoch 3/42\n",
      "5/5 [==============================] - 0s 6ms/step - loss: 0.4936 - accuracy: 0.8016 - precision: 0.8361 - recall: 0.7509\n",
      "Epoch 4/42\n",
      "5/5 [==============================] - 0s 6ms/step - loss: 0.3651 - accuracy: 0.8766 - precision: 0.9028 - recall: 0.8364\n",
      "Epoch 5/42\n",
      "5/5 [==============================] - 0s 6ms/step - loss: 0.2891 - accuracy: 0.8963 - precision: 0.9001 - recall: 0.8899\n",
      "Epoch 6/42\n",
      "5/5 [==============================] - 0s 6ms/step - loss: 0.2428 - accuracy: 0.9059 - precision: 0.9095 - recall: 0.8999\n",
      "Epoch 7/42\n",
      "5/5 [==============================] - 0s 7ms/step - loss: 0.2081 - accuracy: 0.9223 - precision: 0.9251 - recall: 0.9196\n",
      "Epoch 8/42\n",
      "5/5 [==============================] - 0s 6ms/step - loss: 0.1934 - accuracy: 0.9260 - precision: 0.9282 - recall: 0.9218\n",
      "Epoch 9/42\n",
      "5/5 [==============================] - 0s 9ms/step - loss: 0.1646 - accuracy: 0.9420 - precision: 0.9444 - recall: 0.9392\n",
      "Epoch 10/42\n",
      "5/5 [==============================] - 0s 6ms/step - loss: 0.1493 - accuracy: 0.9447 - precision: 0.9468 - recall: 0.9429\n",
      "Epoch 11/42\n",
      "5/5 [==============================] - 0s 6ms/step - loss: 0.1310 - accuracy: 0.9525 - precision: 0.9555 - recall: 0.9511\n",
      "Epoch 12/42\n",
      "5/5 [==============================] - 0s 6ms/step - loss: 0.1263 - accuracy: 0.9602 - precision: 0.9620 - recall: 0.9593\n",
      "Epoch 13/42\n",
      "5/5 [==============================] - 0s 6ms/step - loss: 0.1131 - accuracy: 0.9648 - precision: 0.9648 - recall: 0.9634\n",
      "Epoch 14/42\n",
      "5/5 [==============================] - 0s 6ms/step - loss: 0.1127 - accuracy: 0.9602 - precision: 0.9615 - recall: 0.9589\n",
      "Epoch 15/42\n",
      "5/5 [==============================] - 0s 6ms/step - loss: 0.1097 - accuracy: 0.9648 - precision: 0.9652 - recall: 0.9639\n",
      "Epoch 16/42\n",
      "5/5 [==============================] - 0s 6ms/step - loss: 0.1048 - accuracy: 0.9666 - precision: 0.9666 - recall: 0.9666\n",
      "Epoch 17/42\n",
      "5/5 [==============================] - 0s 6ms/step - loss: 0.0932 - accuracy: 0.9698 - precision: 0.9698 - recall: 0.9698\n",
      "Epoch 18/42\n",
      "5/5 [==============================] - 0s 6ms/step - loss: 0.0919 - accuracy: 0.9666 - precision: 0.9666 - recall: 0.9666\n",
      "Epoch 19/42\n",
      "5/5 [==============================] - 0s 6ms/step - loss: 0.0862 - accuracy: 0.9707 - precision: 0.9712 - recall: 0.9703\n",
      "Epoch 20/42\n",
      "5/5 [==============================] - 0s 6ms/step - loss: 0.0884 - accuracy: 0.9671 - precision: 0.9675 - recall: 0.9671\n",
      "Epoch 21/42\n",
      "5/5 [==============================] - 0s 5ms/step - loss: 0.0812 - accuracy: 0.9712 - precision: 0.9716 - recall: 0.9707\n",
      "Epoch 22/42\n",
      "5/5 [==============================] - 0s 5ms/step - loss: 0.0858 - accuracy: 0.9680 - precision: 0.9680 - recall: 0.9676\n",
      "Epoch 23/42\n",
      "5/5 [==============================] - 0s 5ms/step - loss: 0.0787 - accuracy: 0.9749 - precision: 0.9748 - recall: 0.9735\n",
      "Epoch 24/42\n",
      "5/5 [==============================] - 0s 5ms/step - loss: 0.0826 - accuracy: 0.9698 - precision: 0.9707 - recall: 0.9698\n",
      "Epoch 25/42\n",
      "5/5 [==============================] - 0s 5ms/step - loss: 0.0771 - accuracy: 0.9744 - precision: 0.9749 - recall: 0.9744\n",
      "Epoch 26/42\n",
      "5/5 [==============================] - 0s 5ms/step - loss: 0.0759 - accuracy: 0.9721 - precision: 0.9721 - recall: 0.9717\n",
      "Epoch 27/42\n",
      "5/5 [==============================] - 0s 5ms/step - loss: 0.0756 - accuracy: 0.9694 - precision: 0.9707 - recall: 0.9689\n",
      "Epoch 28/42\n",
      "5/5 [==============================] - 0s 5ms/step - loss: 0.0723 - accuracy: 0.9781 - precision: 0.9781 - recall: 0.9781\n",
      "Epoch 29/42\n",
      "5/5 [==============================] - 0s 5ms/step - loss: 0.0677 - accuracy: 0.9758 - precision: 0.9758 - recall: 0.9758\n",
      "Epoch 30/42\n",
      "5/5 [==============================] - 0s 6ms/step - loss: 0.0742 - accuracy: 0.9730 - precision: 0.9739 - recall: 0.9726\n",
      "Epoch 31/42\n",
      "5/5 [==============================] - 0s 6ms/step - loss: 0.0696 - accuracy: 0.9739 - precision: 0.9744 - recall: 0.9739\n",
      "Epoch 32/42\n",
      "5/5 [==============================] - 0s 6ms/step - loss: 0.0744 - accuracy: 0.9739 - precision: 0.9739 - recall: 0.9739\n",
      "Epoch 33/42\n",
      "5/5 [==============================] - 0s 6ms/step - loss: 0.0677 - accuracy: 0.9762 - precision: 0.9767 - recall: 0.9762\n",
      "Epoch 34/42\n",
      "5/5 [==============================] - 0s 6ms/step - loss: 0.0684 - accuracy: 0.9771 - precision: 0.9785 - recall: 0.9767\n",
      "Epoch 35/42\n",
      "5/5 [==============================] - 0s 6ms/step - loss: 0.0719 - accuracy: 0.9762 - precision: 0.9771 - recall: 0.9762\n",
      "Epoch 36/42\n",
      "5/5 [==============================] - 0s 5ms/step - loss: 0.0699 - accuracy: 0.9758 - precision: 0.9762 - recall: 0.9753\n",
      "Epoch 37/42\n",
      "5/5 [==============================] - 0s 5ms/step - loss: 0.0619 - accuracy: 0.9817 - precision: 0.9822 - recall: 0.9813\n",
      "Epoch 38/42\n",
      "5/5 [==============================] - 0s 5ms/step - loss: 0.0733 - accuracy: 0.9739 - precision: 0.9744 - recall: 0.9739\n",
      "Epoch 39/42\n",
      "5/5 [==============================] - 0s 5ms/step - loss: 0.0693 - accuracy: 0.9762 - precision: 0.9762 - recall: 0.9753\n",
      "Epoch 40/42\n",
      "5/5 [==============================] - 0s 5ms/step - loss: 0.0665 - accuracy: 0.9794 - precision: 0.9803 - recall: 0.9794\n",
      "Epoch 41/42\n",
      "5/5 [==============================] - 0s 5ms/step - loss: 0.0699 - accuracy: 0.9744 - precision: 0.9753 - recall: 0.9744\n",
      "Epoch 42/42\n",
      "5/5 [==============================] - 0s 5ms/step - loss: 0.0622 - accuracy: 0.9817 - precision: 0.9822 - recall: 0.9817\n",
      "18/18 [==============================] - 0s 2ms/step - loss: 0.0624 - accuracy: 0.9726 - precision: 0.9726 - recall: 0.9708\n"
     ]
    }
   ],
   "source": [
    "model = model_fn() \n",
    "model.compile(optimizer = keras.optimizers.Adam(learning_rate=lr_schedule), loss = 'categorical_crossentropy', metrics = ['accuracy'])\n",
    "history = model.fit(train_x, train_y,\n",
    "                    epochs=EPOCHS,\n",
    "                    batch_size=BATCH_SIZE)\n",
    "\n",
    "score = model.evaluate(test_x, test_y)"
   ]
  },
  {
   "cell_type": "code",
   "execution_count": 11,
   "metadata": {},
   "outputs": [
    {
     "name": "stdout",
     "output_type": "stream",
     "text": [
      "18/18 [==============================] - 0s 4ms/step - loss: 0.0624 - accuracy: 0.9726 - precision: 0.9726 - recall: 0.9708\n"
     ]
    }
   ],
   "source": [
    "score = model.evaluate(test_x, test_y)"
   ]
  },
  {
   "cell_type": "code",
   "execution_count": 12,
   "metadata": {},
   "outputs": [
    {
     "name": "stdout",
     "output_type": "stream",
     "text": [
      "INFO:tensorflow:Assets written to: models/internet_model/assets\n"
     ]
    },
    {
     "name": "stderr",
     "output_type": "stream",
     "text": [
      "INFO:tensorflow:Assets written to: models/internet_model/assets\n"
     ]
    }
   ],
   "source": [
    "#concatena train_x e train_y e test_x e test_y\n",
    "train_df = pd.concat([train_x, train['label']], axis=1)\n",
    "train_df.to_csv('datasets/train_internet.csv', index=False)\n",
    "test_df = pd.concat([test_x, test_df['label']], axis=1)\n",
    "test_df.to_csv('datasets/test_internet.csv', index=False)\n",
    "\n",
    "model.save('models/internet_model')\n",
    "model.save_weights('models/internet_weights')"
   ]
  }
 ],
 "metadata": {
  "kernelspec": {
   "display_name": "venv-federated",
   "language": "python",
   "name": "python3"
  },
  "language_info": {
   "codemirror_mode": {
    "name": "ipython",
    "version": 3
   },
   "file_extension": ".py",
   "mimetype": "text/x-python",
   "name": "python",
   "nbconvert_exporter": "python",
   "pygments_lexer": "ipython3",
   "version": "3.10.12"
  }
 },
 "nbformat": 4,
 "nbformat_minor": 2
}
